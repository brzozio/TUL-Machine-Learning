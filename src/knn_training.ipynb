{
 "cells": [
  {
   "cell_type": "code",
   "execution_count": 83,
   "metadata": {},
   "outputs": [],
   "source": [
    "import pandas as pd\n",
    "import numpy as np\n",
    "import os\n",
    "from json import load\n",
    "from math import sin\n",
    "from math import cos\n",
    "\n",
    "BASE_PATH : str = os.path.dirname(os.getcwd())\n",
    "CSV_PATH  : str = BASE_PATH + '\\\\csv'\n",
    "SRC_PATH  : str = BASE_PATH + '\\\\src'\n",
    "JSON_PATH : str = BASE_PATH + '\\\\json'\n",
    "\n",
    "NUM_OF_MOVIES = 200\n",
    "PI = 1.57079632679\n",
    "\n"
   ]
  },
  {
   "cell_type": "code",
   "execution_count": 73,
   "metadata": {},
   "outputs": [],
   "source": [
    "with open(JSON_PATH + \"\\\\movie_distance_graph.json\", 'r') as file:\n",
    "    MOVIE_DISTANCE_GRAPH = load(file)\n",
    "    MOVIE_DISTANCE_GRAPH = {i:{j:MOVIE_DISTANCE_GRAPH[str(i)][str(j)] for j in range(len(MOVIE_DISTANCE_GRAPH[str(i)]))} for i in range(len(MOVIE_DISTANCE_GRAPH))}\n",
    "\n",
    "# movie_distance_graph"
   ]
  },
  {
   "cell_type": "code",
   "execution_count": 74,
   "metadata": {},
   "outputs": [],
   "source": [
    "with open(JSON_PATH + \"\\\\USER_RATING_DATA.json\", 'r') as file:\n",
    "    user_rating_data = load(file)"
   ]
  },
  {
   "cell_type": "code",
   "execution_count": 75,
   "metadata": {},
   "outputs": [],
   "source": [
    "ANGLES = []\n",
    "for angle in range(11):\n",
    " ANGLES.append(angle*PI/10)\n",
    "\n",
    "SINES = []\n",
    "COSINES = []\n",
    "for angle in ANGLES:\n",
    " SINES.append(sin(angle))\n",
    " COSINES.append(cos(angle))\n",
    "\n",
    "SINES[0] = 0\n",
    "SINES[10] = 1\n",
    "COSINES[0] = 1\n",
    "COSINES[10] = 0"
   ]
  },
  {
   "cell_type": "code",
   "execution_count": 76,
   "metadata": {},
   "outputs": [],
   "source": [
    "PARAMS_WEIGHTS = []\n",
    "\n",
    "for i in range(11):\n",
    "    for j in range(11):\n",
    "        for k in range(11):\n",
    "            for l in range(11):\n",
    "                PARAMS_WEIGHTS.append([SINES[i], COSINES[i]*SINES[j], COSINES[i]*COSINES[j]*SINES[k], COSINES[i]*COSINES[j]*COSINES[k]*SINES[l], COSINES[i]*COSINES[j]*COSINES[k]*COSINES[l]])\n"
   ]
  },
  {
   "cell_type": "code",
   "execution_count": 109,
   "metadata": {},
   "outputs": [],
   "source": [
    "def optimize_user(user_id: int, validate_ids: list, training_ids: list, min_k: int = 2, max_k: int = 6) -> tuple[int,int]:    \n",
    "\n",
    "    max_accuracy = 0\n",
    "    best_weights_id = 0\n",
    "    best_k_neighbours = 0\n",
    "    for weights in PARAMS_WEIGHTS:\n",
    "\n",
    "        weighted_movie_distance = np.zeros((len(MOVIE_DISTANCE_GRAPH),len(MOVIE_DISTANCE_GRAPH)))\n",
    "\n",
    "        for movie_1 in MOVIE_DISTANCE_GRAPH:\n",
    "            for movie_2 in MOVIE_DISTANCE_GRAPH[movie_1]:                \n",
    "                for id, param in enumerate(MOVIE_DISTANCE_GRAPH[movie_2][movie_1]):\n",
    "                    weighted_movie_distance[movie_1][movie_2] += weights[id]*param\n",
    "\n",
    "        # conversion of distances to sorted movie ids\n",
    "\n",
    "        for movie_1 in weighted_movie_distance:\n",
    "            movie_1 = [element for element in np.argsort(movie_1) if element in training_ids]            \n",
    "\n",
    "\n",
    "        for k in range(min_k, max_k):\n",
    "            \n",
    "            accuracy = 0\n",
    "            for validation_movie_id in validate_ids:\n",
    "                \n",
    "                unit_ratings = 0\n",
    "                for neighbour in range(k):\n",
    "                    unit_ratings += user_rating_data[user_id]['RATED']['RATINGS'][weighted_movie_distance[validation_movie_id][neighbour]]\n",
    "\n",
    "                if user_rating_data[user_id]['RATED']['RATINGS'][validation_movie_id] == round(unit_ratings/k):\n",
    "                    accuracy += 1\n",
    "            \n",
    "            accuracy = accuracy/len(validate_ids)\n",
    "\n",
    "            print(f\"USER: {user_id:<7}, Weights: {weights}, k: {k:<4}, Accuracy: {accuracy:<3}\")\n",
    "\n",
    "            if accuracy > max_accuracy:\n",
    "                max_accuracy = accuracy\n",
    "                best_weights_id = weights\n",
    "                best_k_neighbours = k\n",
    "\n",
    "    return (best_k_neighbours, best_weights_id)"
   ]
  },
  {
   "cell_type": "code",
   "execution_count": 111,
   "metadata": {},
   "outputs": [
    {
     "ename": "KeyboardInterrupt",
     "evalue": "",
     "output_type": "error",
     "traceback": [
      "\u001b[1;31m---------------------------------------------------------------------------\u001b[0m",
      "\u001b[1;31mKeyboardInterrupt\u001b[0m                         Traceback (most recent call last)",
      "Cell \u001b[1;32mIn[111], line 4\u001b[0m\n\u001b[0;32m      1\u001b[0m validate_ids \u001b[38;5;241m=\u001b[39m [\u001b[38;5;241m21\u001b[39m,\u001b[38;5;241m37\u001b[39m]\n\u001b[0;32m      2\u001b[0m training_ids \u001b[38;5;241m=\u001b[39m [\u001b[38;5;241m2\u001b[39m,\u001b[38;5;241m3\u001b[39m,\u001b[38;5;241m5\u001b[39m,\u001b[38;5;241m7\u001b[39m,\u001b[38;5;241m11\u001b[39m,\u001b[38;5;241m13\u001b[39m,\u001b[38;5;241m17\u001b[39m,\u001b[38;5;241m19\u001b[39m,\u001b[38;5;241m23\u001b[39m,\u001b[38;5;241m27\u001b[39m]\n\u001b[1;32m----> 4\u001b[0m \u001b[43moptimize_user\u001b[49m\u001b[43m(\u001b[49m\u001b[38;5;241;43m0\u001b[39;49m\u001b[43m,\u001b[49m\u001b[43mvalidate_ids\u001b[49m\u001b[43m,\u001b[49m\u001b[43mtraining_ids\u001b[49m\u001b[43m,\u001b[49m\u001b[38;5;241;43m3\u001b[39;49m\u001b[43m,\u001b[49m\u001b[38;5;241;43m3\u001b[39;49m\u001b[43m)\u001b[49m\n",
      "Cell \u001b[1;32mIn[109], line 18\u001b[0m, in \u001b[0;36moptimize_user\u001b[1;34m(user_id, validate_ids, training_ids, min_k, max_k)\u001b[0m\n\u001b[0;32m     15\u001b[0m \u001b[38;5;66;03m# conversion of distances to sorted movie ids\u001b[39;00m\n\u001b[0;32m     17\u001b[0m \u001b[38;5;28;01mfor\u001b[39;00m movie_1 \u001b[38;5;129;01min\u001b[39;00m weighted_movie_distance:\n\u001b[1;32m---> 18\u001b[0m     movie_1 \u001b[38;5;241m=\u001b[39m [element \u001b[38;5;28;01mfor\u001b[39;00m element \u001b[38;5;129;01min\u001b[39;00m \u001b[43mnp\u001b[49m\u001b[38;5;241;43m.\u001b[39;49m\u001b[43margsort\u001b[49m\u001b[43m(\u001b[49m\u001b[43mmovie_1\u001b[49m\u001b[43m)\u001b[49m \u001b[38;5;28;01mif\u001b[39;00m element \u001b[38;5;129;01min\u001b[39;00m training_ids]            \n\u001b[0;32m     21\u001b[0m \u001b[38;5;28;01mfor\u001b[39;00m k \u001b[38;5;129;01min\u001b[39;00m \u001b[38;5;28mrange\u001b[39m(min_k, max_k):\n\u001b[0;32m     23\u001b[0m     accuracy \u001b[38;5;241m=\u001b[39m \u001b[38;5;241m0\u001b[39m\n",
      "File \u001b[1;32mc:\\Users\\norbert\\AppData\\Local\\Programs\\Python\\Python312\\Lib\\site-packages\\numpy\\core\\fromnumeric.py:1133\u001b[0m, in \u001b[0;36margsort\u001b[1;34m(a, axis, kind, order)\u001b[0m\n\u001b[0;32m   1025\u001b[0m \u001b[38;5;129m@array_function_dispatch\u001b[39m(_argsort_dispatcher)\n\u001b[0;32m   1026\u001b[0m \u001b[38;5;28;01mdef\u001b[39;00m \u001b[38;5;21margsort\u001b[39m(a, axis\u001b[38;5;241m=\u001b[39m\u001b[38;5;241m-\u001b[39m\u001b[38;5;241m1\u001b[39m, kind\u001b[38;5;241m=\u001b[39m\u001b[38;5;28;01mNone\u001b[39;00m, order\u001b[38;5;241m=\u001b[39m\u001b[38;5;28;01mNone\u001b[39;00m):\n\u001b[0;32m   1027\u001b[0m \u001b[38;5;250m    \u001b[39m\u001b[38;5;124;03m\"\"\"\u001b[39;00m\n\u001b[0;32m   1028\u001b[0m \u001b[38;5;124;03m    Returns the indices that would sort an array.\u001b[39;00m\n\u001b[0;32m   1029\u001b[0m \n\u001b[1;32m   (...)\u001b[0m\n\u001b[0;32m   1131\u001b[0m \n\u001b[0;32m   1132\u001b[0m \u001b[38;5;124;03m    \"\"\"\u001b[39;00m\n\u001b[1;32m-> 1133\u001b[0m     \u001b[38;5;28;01mreturn\u001b[39;00m \u001b[43m_wrapfunc\u001b[49m\u001b[43m(\u001b[49m\u001b[43ma\u001b[49m\u001b[43m,\u001b[49m\u001b[43m \u001b[49m\u001b[38;5;124;43m'\u001b[39;49m\u001b[38;5;124;43margsort\u001b[39;49m\u001b[38;5;124;43m'\u001b[39;49m\u001b[43m,\u001b[49m\u001b[43m \u001b[49m\u001b[43maxis\u001b[49m\u001b[38;5;241;43m=\u001b[39;49m\u001b[43maxis\u001b[49m\u001b[43m,\u001b[49m\u001b[43m \u001b[49m\u001b[43mkind\u001b[49m\u001b[38;5;241;43m=\u001b[39;49m\u001b[43mkind\u001b[49m\u001b[43m,\u001b[49m\u001b[43m \u001b[49m\u001b[43morder\u001b[49m\u001b[38;5;241;43m=\u001b[39;49m\u001b[43morder\u001b[49m\u001b[43m)\u001b[49m\n",
      "File \u001b[1;32mc:\\Users\\norbert\\AppData\\Local\\Programs\\Python\\Python312\\Lib\\site-packages\\numpy\\core\\fromnumeric.py:59\u001b[0m, in \u001b[0;36m_wrapfunc\u001b[1;34m(obj, method, *args, **kwds)\u001b[0m\n\u001b[0;32m     56\u001b[0m     \u001b[38;5;28;01mreturn\u001b[39;00m _wrapit(obj, method, \u001b[38;5;241m*\u001b[39margs, \u001b[38;5;241m*\u001b[39m\u001b[38;5;241m*\u001b[39mkwds)\n\u001b[0;32m     58\u001b[0m \u001b[38;5;28;01mtry\u001b[39;00m:\n\u001b[1;32m---> 59\u001b[0m     \u001b[38;5;28;01mreturn\u001b[39;00m \u001b[43mbound\u001b[49m\u001b[43m(\u001b[49m\u001b[38;5;241;43m*\u001b[39;49m\u001b[43margs\u001b[49m\u001b[43m,\u001b[49m\u001b[43m \u001b[49m\u001b[38;5;241;43m*\u001b[39;49m\u001b[38;5;241;43m*\u001b[39;49m\u001b[43mkwds\u001b[49m\u001b[43m)\u001b[49m\n\u001b[0;32m     60\u001b[0m \u001b[38;5;28;01mexcept\u001b[39;00m \u001b[38;5;167;01mTypeError\u001b[39;00m:\n\u001b[0;32m     61\u001b[0m     \u001b[38;5;66;03m# A TypeError occurs if the object does have such a method in its\u001b[39;00m\n\u001b[0;32m     62\u001b[0m     \u001b[38;5;66;03m# class, but its signature is not identical to that of NumPy's. This\u001b[39;00m\n\u001b[1;32m   (...)\u001b[0m\n\u001b[0;32m     66\u001b[0m     \u001b[38;5;66;03m# Call _wrapit from within the except clause to ensure a potential\u001b[39;00m\n\u001b[0;32m     67\u001b[0m     \u001b[38;5;66;03m# exception has a traceback chain.\u001b[39;00m\n\u001b[0;32m     68\u001b[0m     \u001b[38;5;28;01mreturn\u001b[39;00m _wrapit(obj, method, \u001b[38;5;241m*\u001b[39margs, \u001b[38;5;241m*\u001b[39m\u001b[38;5;241m*\u001b[39mkwds)\n",
      "\u001b[1;31mKeyboardInterrupt\u001b[0m: "
     ]
    }
   ],
   "source": [
    "validate_ids = [21,37]\n",
    "training_ids = [2,3,5,7,11,13,17,19,23,27]\n",
    "\n",
    "optimize_user(0,validate_ids,training_ids,3,3)"
   ]
  }
 ],
 "metadata": {
  "kernelspec": {
   "display_name": "Python 3",
   "language": "python",
   "name": "python3"
  },
  "language_info": {
   "codemirror_mode": {
    "name": "ipython",
    "version": 3
   },
   "file_extension": ".py",
   "mimetype": "text/x-python",
   "name": "python",
   "nbconvert_exporter": "python",
   "pygments_lexer": "ipython3",
   "version": "3.12.0"
  }
 },
 "nbformat": 4,
 "nbformat_minor": 2
}
