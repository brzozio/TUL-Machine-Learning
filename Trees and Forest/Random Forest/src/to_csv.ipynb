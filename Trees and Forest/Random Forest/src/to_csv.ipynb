{
 "cells": [
  {
   "cell_type": "code",
   "execution_count": 1,
   "metadata": {},
   "outputs": [],
   "source": [
    "import pandas as pd\n",
    "import os\n",
    "\n",
    "base_path : str = os.path.dirname(os.getcwd())\n",
    "csv_path  : str = base_path + '\\\\csv'\n",
    "src_path  : str = base_path + '\\\\src'\n",
    "json_path : str = base_path + '\\\\json'"
   ]
  },
  {
   "cell_type": "code",
   "execution_count": 2,
   "metadata": {},
   "outputs": [],
   "source": [
    "df = pd.read_csv(csv_path +'\\\\task.csv', delimiter=';', names=['ID', 'USER_ID', 'MOVIE_ID', 'RATING'])\n",
    "user_movie_dict = df.groupby('USER_ID')['MOVIE_ID'].apply(list).to_dict()"
   ]
  },
  {
   "cell_type": "code",
   "execution_count": 3,
   "metadata": {},
   "outputs": [],
   "source": [
    "raw_null_csv = pd.read_csv(csv_path + '\\\\task.csv', sep=';', header=None).fillna(-1)\n",
    "raw_null_csv.columns = ['ID', 'USER_ID', 'MOVIE_ID', 'RATING']"
   ]
  },
  {
   "cell_type": "code",
   "execution_count": 4,
   "metadata": {},
   "outputs": [],
   "source": [
    "import json\n",
    "with open(json_path + '\\\\USER_PREDICTED_RATINGS_TRANSFORMED.json', 'r') as f:\n",
    "    data = json.load(f)"
   ]
  },
  {
   "cell_type": "code",
   "execution_count": 5,
   "metadata": {},
   "outputs": [
    {
     "ename": "KeyError",
     "evalue": "'1642'",
     "output_type": "error",
     "traceback": [
      "\u001b[1;31m---------------------------------------------------------------------------\u001b[0m",
      "\u001b[1;31mKeyError\u001b[0m                                  Traceback (most recent call last)",
      "Cell \u001b[1;32mIn[5], line 7\u001b[0m\n\u001b[0;32m      4\u001b[0m user_id \u001b[38;5;241m=\u001b[39m row[\u001b[38;5;124m'\u001b[39m\u001b[38;5;124mUSER_ID\u001b[39m\u001b[38;5;124m'\u001b[39m]\n\u001b[0;32m      5\u001b[0m movie_id \u001b[38;5;241m=\u001b[39m row[\u001b[38;5;124m'\u001b[39m\u001b[38;5;124mMOVIE_ID\u001b[39m\u001b[38;5;124m'\u001b[39m]\n\u001b[1;32m----> 7\u001b[0m user_rating \u001b[38;5;241m=\u001b[39m \u001b[43mdata\u001b[49m\u001b[43m[\u001b[49m\u001b[38;5;28;43mstr\u001b[39;49m\u001b[43m(\u001b[49m\u001b[38;5;28;43mint\u001b[39;49m\u001b[43m(\u001b[49m\u001b[43muser_id\u001b[49m\u001b[43m)\u001b[49m\u001b[43m)\u001b[49m\u001b[43m]\u001b[49m[\u001b[38;5;28mstr\u001b[39m(\u001b[38;5;28mint\u001b[39m(movie_id))]\n\u001b[0;32m      8\u001b[0m \u001b[38;5;28mprint\u001b[39m(\u001b[38;5;124mf\u001b[39m\u001b[38;5;124m\"\u001b[39m\u001b[38;5;124mRating for user: \u001b[39m\u001b[38;5;132;01m{\u001b[39;00muser_id\u001b[38;5;132;01m}\u001b[39;00m\u001b[38;5;124m and movie: \u001b[39m\u001b[38;5;132;01m{\u001b[39;00mmovie_id\u001b[38;5;132;01m}\u001b[39;00m\u001b[38;5;124m is: \u001b[39m\u001b[38;5;132;01m{\u001b[39;00muser_rating\u001b[38;5;132;01m}\u001b[39;00m\u001b[38;5;124m\"\u001b[39m)\n\u001b[0;32m     10\u001b[0m raw_null_csv\u001b[38;5;241m.\u001b[39mat[index, \u001b[38;5;124m'\u001b[39m\u001b[38;5;124mRATING\u001b[39m\u001b[38;5;124m'\u001b[39m] \u001b[38;5;241m=\u001b[39m \u001b[38;5;28mint\u001b[39m(user_rating)  \n",
      "\u001b[1;31mKeyError\u001b[0m: '1642'"
     ]
    }
   ],
   "source": [
    "raw_null_csv['RATING'] = raw_null_csv['RATING'].astype(int)\n",
    "\n",
    "for index, row in raw_null_csv.iterrows():\n",
    "    user_id = row['USER_ID']\n",
    "    movie_id = row['MOVIE_ID']\n",
    "\n",
    "    user_rating = data[str(int(user_id))][str(int(movie_id))]\n",
    "    print(f\"Rating for user: {user_id} and movie: {movie_id} is: {user_rating}\")\n",
    "\n",
    "    raw_null_csv.at[index, 'RATING'] = int(user_rating)  "
   ]
  },
  {
   "cell_type": "code",
   "execution_count": 6,
   "metadata": {},
   "outputs": [],
   "source": [
    "raw_null_csv.to_csv(csv_path + '\\\\submission_forest.csv', header=None, index=None, sep=';')"
   ]
  }
 ],
 "metadata": {
  "kernelspec": {
   "display_name": "Python 3",
   "language": "python",
   "name": "python3"
  },
  "language_info": {
   "codemirror_mode": {
    "name": "ipython",
    "version": 3
   },
   "file_extension": ".py",
   "mimetype": "text/x-python",
   "name": "python",
   "nbconvert_exporter": "python",
   "pygments_lexer": "ipython3",
   "version": "3.11.9"
  }
 },
 "nbformat": 4,
 "nbformat_minor": 2
}
